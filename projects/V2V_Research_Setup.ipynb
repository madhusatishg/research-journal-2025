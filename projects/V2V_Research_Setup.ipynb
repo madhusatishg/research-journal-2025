{
  "nbformat": 4,
  "nbformat_minor": 0,
  "metadata": {
    "colab": {
      "provenance": [],
      "toc_visible": true,
      "authorship_tag": "ABX9TyNclmrxM5yjmh0zTinY6JFf",
      "include_colab_link": true
    },
    "kernelspec": {
      "name": "python3",
      "display_name": "Python 3"
    },
    "language_info": {
      "name": "python"
    }
  },
  "cells": [
    {
      "cell_type": "markdown",
      "metadata": {
        "id": "view-in-github",
        "colab_type": "text"
      },
      "source": [
        "<a href=\"https://colab.research.google.com/github/madhusatishg/research-journal-2025/blob/main/projects/V2V_Research_Setup.ipynb\" target=\"_parent\"><img src=\"https://colab.research.google.com/assets/colab-badge.svg\" alt=\"Open In Colab\"/></a>"
      ]
    },
    {
      "cell_type": "code",
      "execution_count": 1,
      "metadata": {
        "colab": {
          "base_uri": "https://localhost:8080/"
        },
        "id": "2Slj60X8czyq",
        "outputId": "9f7f4aa8-6786-40ae-a3a8-04c6331b0840"
      },
      "outputs": [
        {
          "output_type": "stream",
          "name": "stdout",
          "text": [
            "Cloning into 'research-journal-2025'...\n",
            "remote: Enumerating objects: 26, done.\u001b[K\n",
            "remote: Counting objects: 100% (26/26), done.\u001b[K\n",
            "remote: Compressing objects: 100% (15/15), done.\u001b[K\n",
            "remote: Total 26 (delta 7), reused 20 (delta 4), pack-reused 0 (from 0)\u001b[K\n",
            "Receiving objects: 100% (26/26), done.\n",
            "Resolving deltas: 100% (7/7), done.\n",
            "/content/research-journal-2025\n",
            "total 40\n",
            "drwxr-xr-x 9 root root 4096 Oct 18 08:34 .\n",
            "drwxr-xr-x 1 root root 4096 Oct 18 08:34 ..\n",
            "drwxr-xr-x 2 root root 4096 Oct 18 08:34 experiments\n",
            "drwxr-xr-x 8 root root 4096 Oct 18 08:34 .git\n",
            "drwxr-xr-x 2 root root 4096 Oct 18 08:34 git_learnings\n",
            "drwxr-xr-x 2 root root 4096 Oct 18 08:34 learnings\n",
            "drwxr-xr-x 2 root root 4096 Oct 18 08:34 observations_and_intutions\n",
            "drwxr-xr-x 2 root root 4096 Oct 18 08:34 projects\n",
            "-rw-r--r-- 1 root root  112 Oct 18 08:34 README.md\n",
            "drwxr-xr-x 2 root root 4096 Oct 18 08:34 research_goals\n",
            "🎉 GitHub connection successful!\n"
          ]
        }
      ],
      "source": [
        "# STEP 1: Connect to your GitHub repository\n",
        "!git clone https://github.com/madhusatishg/research-journal-2025.git\n",
        "\n",
        "# STEP 2: Enter your project folder\n",
        "%cd research-journal-2025\n",
        "\n",
        "# STEP 3: See what files we have\n",
        "!ls -la\n",
        "\n",
        "print(\"🎉 GitHub connection successful!\")"
      ]
    }
  ]
}